{
 "cells": [
  {
   "cell_type": "markdown",
   "metadata": {
    "application/vnd.databricks.v1+cell": {
     "cellMetadata": {},
     "inputWidgets": {},
     "nuid": "11238f31-6e63-463e-8d34-92383f5c05d7",
     "showTitle": false,
     "tableResultSettingsMap": {},
     "title": ""
    }
   },
   "source": [
    "# Week 07 - Spark Application"
   ]
  },
  {
   "cell_type": "code",
   "execution_count": 0,
   "metadata": {
    "application/vnd.databricks.v1+cell": {
     "cellMetadata": {
      "byteLimit": 2048000,
      "rowLimit": 10000
     },
     "inputWidgets": {},
     "nuid": "b70b12e9-d6e2-452a-ba96-5054363757c4",
     "showTitle": false,
     "tableResultSettingsMap": {},
     "title": ""
    }
   },
   "outputs": [],
   "source": [
    "import zipfile\n",
    "import os\n",
    "import shutil\n",
    "from pyspark.sql import functions as F\n",
    "\n",
    "\n",
    "# File locations\n",
    "file1 = \"dbfs:/FileStore/tables/PGYR2023_P01302025_01212025.zip\"\n",
    "file2 = \"dbfs:/FileStore/tables/PHPRFL_P01302025_01212025.zip\""
   ]
  },
  {
   "cell_type": "code",
   "execution_count": 0,
   "metadata": {
    "application/vnd.databricks.v1+cell": {
     "cellMetadata": {
      "byteLimit": 2048000,
      "rowLimit": 10000
     },
     "inputWidgets": {},
     "nuid": "a098df69-bdd9-43f3-abc5-de2715c5b060",
     "showTitle": false,
     "tableResultSettingsMap": {},
     "title": ""
    }
   },
   "outputs": [
    {
     "output_type": "display_data",
     "data": {
      "text/html": [
       "<style scoped>\n",
       "  .table-result-container {\n",
       "    max-height: 300px;\n",
       "    overflow: auto;\n",
       "  }\n",
       "  table, th, td {\n",
       "    border: 1px solid black;\n",
       "    border-collapse: collapse;\n",
       "  }\n",
       "  th, td {\n",
       "    padding: 5px;\n",
       "  }\n",
       "  th {\n",
       "    text-align: left;\n",
       "  }\n",
       "</style><div class='table-result-container'><table class='table-result'><thead style='background-color: white'><tr><th>path</th><th>name</th><th>size</th><th>modificationTime</th></tr></thead><tbody><tr><td>dbfs:/FileStore/tables/PGYR2023_P01302025_01212025.zip</td><td>PGYR2023_P01302025_01212025.zip</td><td>789005271</td><td>1742783148000</td></tr><tr><td>dbfs:/FileStore/tables/PHPRFL_P01302025_01212025.zip</td><td>PHPRFL_P01302025_01212025.zip</td><td>82966770</td><td>1742782606000</td></tr></tbody></table></div>"
      ]
     },
     "metadata": {
      "application/vnd.databricks.v1+output": {
       "addedWidgets": {},
       "aggData": [],
       "aggError": "",
       "aggOverflow": false,
       "aggSchema": [],
       "aggSeriesLimitReached": false,
       "aggType": "",
       "arguments": {},
       "columnCustomDisplayInfos": {},
       "data": [
        [
         "dbfs:/FileStore/tables/PGYR2023_P01302025_01212025.zip",
         "PGYR2023_P01302025_01212025.zip",
         789005271,
         1742783148000
        ],
        [
         "dbfs:/FileStore/tables/PHPRFL_P01302025_01212025.zip",
         "PHPRFL_P01302025_01212025.zip",
         82966770,
         1742782606000
        ]
       ],
       "datasetInfos": [],
       "dbfsResultPath": null,
       "isJsonSchema": true,
       "metadata": {},
       "overflow": false,
       "plotOptions": {
        "customPlotOptions": {},
        "displayType": "table",
        "pivotAggregation": null,
        "pivotColumns": null,
        "xColumns": null,
        "yColumns": null
       },
       "removedWidgets": [],
       "schema": [
        {
         "metadata": "{}",
         "name": "path",
         "type": "\"string\""
        },
        {
         "metadata": "{}",
         "name": "name",
         "type": "\"string\""
        },
        {
         "metadata": "{}",
         "name": "size",
         "type": "\"long\""
        },
        {
         "metadata": "{}",
         "name": "modificationTime",
         "type": "\"long\""
        }
       ],
       "type": "table"
      }
     },
     "output_type": "display_data"
    }
   ],
   "source": [
    "display(dbutils.fs.ls(\"FileStore/tables/\")) \n"
   ]
  },
  {
   "cell_type": "code",
   "execution_count": 0,
   "metadata": {
    "application/vnd.databricks.v1+cell": {
     "cellMetadata": {
      "byteLimit": 2048000,
      "rowLimit": 10000
     },
     "inputWidgets": {},
     "nuid": "0f50e60a-6575-4b95-be75-d9e71ecd6a79",
     "showTitle": false,
     "tableResultSettingsMap": {},
     "title": ""
    }
   },
   "outputs": [
    {
     "output_type": "stream",
     "name": "stdout",
     "output_type": "stream",
     "text": [
      "unzip:  cannot find or open /dbfs/FileStore/tables/PGYR2023_P01302025_01212025, /dbfs/FileStore/tables/PGYR2023_P01302025_01212025.zip or /dbfs/FileStore/tables/PGYR2023_P01302025_01212025.ZIP.\r\nunzip:  cannot find or open /dbfs/FileStore/tables/PHPRFL_P01302025_01212025, /dbfs/FileStore/tables/PHPRFL_P01302025_01212025.zip or /dbfs/FileStore/tables/PHPRFL_P01302025_01212025.ZIP.\r\n"
     ]
    }
   ],
   "source": [
    "!mkdir -p /dbfs/FileStore/tables/PGYR2023_P01302025_01212025\n",
    "!unzip /dbfs/FileStore/tables/PGYR2023_P01302025_01212025 -d /dbfs/FileStore/tables/PGYR2023_P01302025_01212025/\n",
    "\n",
    "!mkdir -p /dbfs/FileStore/tables/PHPRFL_P01302025_01212025\n",
    "!unzip /dbfs/FileStore/tables/PHPRFL_P01302025_01212025 -d /dbfs/FileStore/tables/PHPRFL_P01302025_01212025/\n"
   ]
  },
  {
   "cell_type": "code",
   "execution_count": 0,
   "metadata": {
    "application/vnd.databricks.v1+cell": {
     "cellMetadata": {
      "byteLimit": 2048000,
      "rowLimit": 10000
     },
     "inputWidgets": {},
     "nuid": "cc00082f-4829-4902-83cb-f65e40217469",
     "showTitle": false,
     "tableResultSettingsMap": {},
     "title": ""
    }
   },
   "outputs": [],
   "source": [
    "dbutils.fs.cp(file1, \"file:/tmp/g.zip\")\n",
    "dbutils.fs.cp(file2, \"file:/tmp/r.zip\")\n",
    "\n",
    "with zipfile.ZipFile(\"/tmp/g.zip\", 'r') as zip_ref:\n",
    "    zip_ref.extractall(\"/tmp/opG\")\n",
    "\n",
    "with zipfile.ZipFile(\"/tmp/r.zip\", 'r') as zip_ref:\n",
    "    zip_ref.extractall(\"/tmp/opR\")\n"
   ]
  },
  {
   "cell_type": "code",
   "execution_count": 0,
   "metadata": {
    "application/vnd.databricks.v1+cell": {
     "cellMetadata": {
      "byteLimit": 2048000,
      "rowLimit": 10000
     },
     "inputWidgets": {},
     "nuid": "d21ba249-4725-4b40-b244-33064edaeb78",
     "showTitle": false,
     "tableResultSettingsMap": {},
     "title": ""
    }
   },
   "outputs": [],
   "source": [
    "os.makedirs(\"/dbfs/FileStore/tables/\", exist_ok=True)\n",
    "\n",
    "shutil.copy(\"/tmp/opG/OP_DTL_GNRL_PGYR2023_P01302025_01212025.csv\", \"/dbfs/FileStore/tables/g.csv\")\n",
    "\n",
    "shutil.copy(\"/tmp/opR/OP_CVRD_RCPNT_PRFL_SPLMTL_P01302025_01212025.csv\", \"/dbfs/FileStore/tables/r.csv\")\n",
    "\n",
    "gdf = spark.read.csv(\"file:/dbfs/FileStore/tables/g.csv\", header=True, inferSchema=True)\n",
    "df = spark.read.csv(\"file:/dbfs/FileStore/tables/r.csv\", header=True, inferSchema=True)"
   ]
  },
  {
   "cell_type": "markdown",
   "metadata": {
    "application/vnd.databricks.v1+cell": {
     "cellMetadata": {},
     "inputWidgets": {},
     "nuid": "96816ed7-b08a-4ca3-abb9-f99880c3535d",
     "showTitle": false,
     "tableResultSettingsMap": {},
     "title": ""
    }
   },
   "source": [
    "\n",
    "## 1. What is the Nature of Payments with reimbursement amounts greater than $1,000 ordered by count?\n",
    "\n",
    "\n"
   ]
  },
  {
   "cell_type": "code",
   "execution_count": 0,
   "metadata": {
    "application/vnd.databricks.v1+cell": {
     "cellMetadata": {
      "byteLimit": 2048000,
      "rowLimit": 10000
     },
     "inputWidgets": {},
     "nuid": "e17f7906-bd4e-4300-92bb-9944051c90a5",
     "showTitle": false,
     "tableResultSettingsMap": {},
     "title": ""
    }
   },
   "outputs": [
    {
     "output_type": "stream",
     "name": "stdout",
     "output_type": "stream",
     "text": [
      "+--------------------------------------+------+\n|Nature_of_Payment_or_Transfer_of_Value| count|\n+--------------------------------------+------+\n|                  Compensation for ...|164092|\n|                        Consulting Fee|105228|\n|                    Travel and Lodging| 24738|\n|                             Honoraria| 13750|\n|                             Education| 13376|\n|                    Royalty or License| 11534|\n|                  Compensation for ...|  8658|\n|                                 Grant|  4922|\n|                  Space rental or f...|  4917|\n|                  Long term medical...|  2930|\n+--------------------------------------+------+\nonly showing top 10 rows\n\n"
     ]
    }
   ],
   "source": [
    "# First, filter the records where the total payment amount is greater than 1,000 USD\n",
    "FF = gdf.filter(F.col(\"Total_Amount_of_Payment_USDollars\") > 1000)\n",
    "\n",
    "# Next, group the filtered data by the \"Nature_of_Payment_or_Transfer_of_Value\" column\n",
    "na = FF.groupby(\"Nature_of_Payment_or_Transfer_of_Value\")\n",
    "\n",
    "# Then, count the number of records for each group\n",
    "co = na.count()\n",
    "\n",
    "# After that, order the results by the \"count\" column in descending order\n",
    "final1 = co.orderBy(F.col(\"count\").desc())\n",
    "\n",
    "# Finally, show \n",
    "final1.show(10)\n",
    "\n"
   ]
  },
  {
   "cell_type": "markdown",
   "metadata": {
    "application/vnd.databricks.v1+cell": {
     "cellMetadata": {},
     "inputWidgets": {},
     "nuid": "c92dcbf0-1b3b-436e-b9d4-59cb98c26d3e",
     "showTitle": false,
     "tableResultSettingsMap": {},
     "title": ""
    }
   },
   "source": [
    "## 2. What are the top ten Nature of Payments by count?\n"
   ]
  },
  {
   "cell_type": "code",
   "execution_count": 0,
   "metadata": {
    "application/vnd.databricks.v1+cell": {
     "cellMetadata": {
      "byteLimit": 2048000,
      "rowLimit": 10000
     },
     "inputWidgets": {},
     "nuid": "0f676c6f-8ee6-4aac-abfe-eecaa56e4377",
     "showTitle": false,
     "tableResultSettingsMap": {},
     "title": ""
    }
   },
   "outputs": [
    {
     "output_type": "stream",
     "name": "stdout",
     "output_type": "stream",
     "text": [
      "+--------------------------------------+--------+\n|Nature_of_Payment_or_Transfer_of_Value|   count|\n+--------------------------------------+--------+\n|                     Food and Beverage|13378464|\n|                    Travel and Lodging|  545086|\n|                  Compensation for ...|  236628|\n|                        Consulting Fee|  170630|\n|                             Education|  161078|\n|                                  Gift|   31786|\n|                             Honoraria|   20232|\n|                    Royalty or License|   15865|\n|                  Compensation for ...|   12234|\n|                         Entertainment|    7967|\n+--------------------------------------+--------+\n\n"
     ]
    }
   ],
   "source": [
    "# Group the data by \"Nature_of_Payment_or_Transfer_of_Value\"\n",
    "nc = gdf.groupby(\"Nature_of_Payment_or_Transfer_of_Value\")\n",
    "\n",
    "# Count the number of records for each group\n",
    "tc = nc.count()\n",
    "\n",
    "# Order the counts in descending order\n",
    "otc = tc.orderBy(F.col(\"count\").desc())\n",
    "\n",
    "# Limit the result to the top 10 entries\n",
    "final2 = otc.limit(10)\n",
    "\n",
    "# Show final\n",
    "final2.show(10)\n",
    "\n"
   ]
  },
  {
   "cell_type": "markdown",
   "metadata": {
    "application/vnd.databricks.v1+cell": {
     "cellMetadata": {},
     "inputWidgets": {},
     "nuid": "2623eb0e-4371-4a1b-8716-d63c06d1dc34",
     "showTitle": false,
     "tableResultSettingsMap": {},
     "title": ""
    }
   },
   "source": [
    "## 3. What are the top ten Nature of Payments by total amount?\n"
   ]
  },
  {
   "cell_type": "code",
   "execution_count": 0,
   "metadata": {
    "application/vnd.databricks.v1+cell": {
     "cellMetadata": {
      "byteLimit": 2048000,
      "rowLimit": 10000
     },
     "inputWidgets": {},
     "nuid": "2889fb3f-944e-4efc-a407-0ad6dcbc1332",
     "showTitle": false,
     "tableResultSettingsMap": {},
     "title": ""
    }
   },
   "outputs": [
    {
     "output_type": "stream",
     "name": "stdout",
     "output_type": "stream",
     "text": [
      "+--------------------------------------+--------------------+\n|Nature_of_Payment_or_Transfer_of_Value|       Total_Payment|\n+--------------------------------------+--------------------+\n|                    Royalty or License|     1.19217456302E9|\n|                  Compensation for ...| 5.946326876500002E8|\n|                        Consulting Fee| 5.148558758999996E8|\n|                     Food and Beverage| 3.744878240099897E8|\n|                    Travel and Lodging|1.7954842378000867E8|\n|                                 Grant|      1.1188856182E8|\n|                          Acquisitions| 7.192577675999999E7|\n|                             Education| 6.469532594000257E7|\n|                             Honoraria| 5.585182388999997E7|\n|                  Long term medical...|       3.009879195E7|\n+--------------------------------------+--------------------+\n\n"
     ]
    }
   ],
   "source": [
    "# Group the data by \"Nature_of_Payment_or_Transfer_of_Value\" column\n",
    "ng = gdf.groupby(\"Nature_of_Payment_or_Transfer_of_Value\")\n",
    "\n",
    "# Sum the \"Total_Amount_of_Payment_USDollars\" for each group\n",
    "tp = ng.agg(F.sum(\"Total_Amount_of_Payment_USDollars\").alias(\"Total_Payment\"))\n",
    "\n",
    "# Order the result by \"Total_Payment\" in descending order\n",
    "on = tp.orderBy(F.col(\"Total_Payment\").desc())\n",
    "\n",
    "# Limit the result to the top 10 entries\n",
    "final3 = on.limit(10)\n",
    "\n",
    "# Show final\n",
    "final3.show(10)\n",
    "\n"
   ]
  },
  {
   "cell_type": "markdown",
   "metadata": {
    "application/vnd.databricks.v1+cell": {
     "cellMetadata": {},
     "inputWidgets": {},
     "nuid": "6d06ff6e-1d8f-4811-a65c-0dcc45aafd72",
     "showTitle": false,
     "tableResultSettingsMap": {},
     "title": ""
    }
   },
   "source": [
    "## 4. What are the top ten physician specialties by total amount?"
   ]
  },
  {
   "cell_type": "code",
   "execution_count": 0,
   "metadata": {
    "application/vnd.databricks.v1+cell": {
     "cellMetadata": {
      "byteLimit": 2048000,
      "rowLimit": 10000
     },
     "inputWidgets": {},
     "nuid": "89c07f2f-9df6-4651-96ad-d6c34227dcc0",
     "showTitle": false,
     "tableResultSettingsMap": {},
     "title": ""
    }
   },
   "outputs": [
    {
     "output_type": "stream",
     "name": "stdout",
     "output_type": "stream",
     "text": [
      "+-----------------------------+--------------------+\n|Covered_Recipient_Specialty_1|       Total_Payment|\n+-----------------------------+--------------------+\n|                         null| 7.936674692299995E8|\n|         Allopathic & Oste...|4.0345021308999807E8|\n|         Allopathic & Oste...|1.3136300307000302E8|\n|         Allopathic & Oste...| 8.979213626000012E7|\n|         Allopathic & Oste...| 8.608847857000005E7|\n|         Allopathic & Oste...|  8.32026477400006E7|\n|         Allopathic & Oste...| 7.022084115000014E7|\n|         Allopathic & Oste...|  6.94689412100008E7|\n|         Allopathic & Oste...| 6.677283748999998E7|\n|         Allopathic & Oste...| 6.329825407000052E7|\n+-----------------------------+--------------------+\n\n"
     ]
    }
   ],
   "source": [
    "# Cast the Covered_Recipient_NPI columns to string in both dataframes to ensure the join works\n",
    "gdf = gdf.withColumn(\"Covered_Recipient_NPI\", F.col(\"Covered_Recipient_NPI\").cast(\"string\"))\n",
    "df = df.withColumn(\"Covered_Recipient_NPI\", F.col(\"Covered_Recipient_NPI\").cast(\"string\"))\n",
    "\n",
    "# Perform the join between the two dataframes\n",
    "jdf = gdf.join(df, gdf[\"Covered_Recipient_NPI\"] == df[\"Covered_Recipient_NPI\"], \"left\")\n",
    "\n",
    "# Group by \"Physician_Specialty\" and aggregate the total amount of payment for each specialty\n",
    "sg = jdf.groupby(\"Covered_Recipient_Specialty_1\")  # Using \"Covered_Recipient_Specialty_1\" from df1\n",
    "\n",
    "# Sum the \"Total_Amount_of_Payment_USDollars\" for each specialty\n",
    "ss = sg.agg(F.sum(\"Total_Amount_of_Payment_USDollars\").alias(\"Total_Payment\"))\n",
    "\n",
    "# Order the result by \"Total_Payment\" in descending order\n",
    "so = ss.orderBy(F.col(\"Total_Payment\").desc())\n",
    "\n",
    "# Limit the result to the top 10 specialties\n",
    "final4 = so.limit(10)\n",
    "\n",
    "# Show the result\n",
    "final4.show(10)\n"
   ]
  },
  {
   "cell_type": "markdown",
   "metadata": {
    "application/vnd.databricks.v1+cell": {
     "cellMetadata": {},
     "inputWidgets": {},
     "nuid": "80ed31d2-2c45-426f-a75f-349a61ac69d7",
     "showTitle": false,
     "tableResultSettingsMap": {},
     "title": ""
    }
   },
   "source": [
    "## 5. Who are the top ten physicians by total amount?"
   ]
  },
  {
   "cell_type": "code",
   "execution_count": 0,
   "metadata": {
    "application/vnd.databricks.v1+cell": {
     "cellMetadata": {
      "byteLimit": 2048000,
      "rowLimit": 10000
     },
     "inputWidgets": {},
     "nuid": "2cc34ca2-dea7-4dfe-a4d0-e5d4df66c81b",
     "showTitle": false,
     "tableResultSettingsMap": {},
     "title": ""
    }
   },
   "outputs": [
    {
     "output_type": "stream",
     "name": "stdout",
     "output_type": "stream",
     "text": [
      "+----------------------------+---------------------------+-------------------+\n|Covered_Recipient_First_Name|Covered_Recipient_Last_Name|      Total_Payment|\n+----------------------------+---------------------------+-------------------+\n|                        null|                       null|7.933900857900002E8|\n|                     STEPHEN|                   BURKHART|      3.392202493E7|\n|                     WILLIAM|                     BINDER|      2.943437497E7|\n|                       KEVIN|                      FOLEY|       1.73059378E7|\n|                        IVAN|                     OSORIO|      1.606551551E7|\n|                      GEORGE|                    MAXWELL|      1.160032024E7|\n|                      ROBERT|                      BOOTH|         8459167.19|\n|                        NEAL|                 ELATTRACHE|          7810628.2|\n|                       AARON|                  ROSENBERG|  6883627.290000001|\n|                       ROGER|                    JACKSON|         6615711.26|\n+----------------------------+---------------------------+-------------------+\n\n"
     ]
    }
   ],
   "source": [
    "# Group the \"general\" dataframe by the physician's first and last names\n",
    "ggp = gdf.groupby(\"Covered_Recipient_First_Name\", \"Covered_Recipient_Last_Name\")\n",
    "\n",
    "# Sum the \"Total_Amount_of_Payment_USDollars\" for each physician\n",
    "pt = ggp.agg(F.sum(\"Total_Amount_of_Payment_USDollars\").alias(\"Total_Payment\"))\n",
    "\n",
    "# Order the result by \"Total_Payment\" in descending order\n",
    "op = pt.orderBy(F.col(\"Total_Payment\").desc())\n",
    "\n",
    "# Limit the result to the top 10 physicians\n",
    "final5 = op.limit(10)\n",
    "\n",
    "# Show final\n",
    "final5.show(10)"
   ]
  }
 ],
 "metadata": {
  "application/vnd.databricks.v1+notebook": {
   "computePreferences": null,
   "dashboards": [],
   "environmentMetadata": null,
   "language": "python",
   "notebookMetadata": {
    "mostRecentlyExecutedCommandWithImplicitDF": {
     "commandId": -1,
     "dataframes": [
      "_sqldf"
     ]
    },
    "pythonIndentUnit": 4
   },
   "notebookName": "Week_07_Spark Application_Sudha",
   "widgets": {}
  }
 },
 "nbformat": 4,
 "nbformat_minor": 0
}
